{
  "nbformat": 4,
  "nbformat_minor": 0,
  "metadata": {
    "colab": {
      "provenance": [],
      "include_colab_link": true
    },
    "kernelspec": {
      "name": "python3",
      "display_name": "Python 3"
    },
    "language_info": {
      "name": "python"
    }
  },
  "cells": [
    {
      "cell_type": "markdown",
      "metadata": {
        "id": "view-in-github",
        "colab_type": "text"
      },
      "source": [
        "<a href=\"https://colab.research.google.com/github/lari-nunes/Calculadora-IMC/blob/master/TDE2.ipynb\" target=\"_parent\"><img src=\"https://colab.research.google.com/assets/colab-badge.svg\" alt=\"Open In Colab\"/></a>"
      ]
    },
    {
      "cell_type": "markdown",
      "source": [
        "Importamos a biblioteca pandas.\n",
        "Atribuimos a variável df o DataFrame resultante do método read_csv do pandas. \n",
        "O método read_csv lê arquivos csv o os converte em DataFrame."
      ],
      "metadata": {
        "id": "JWMSmKvlQuxk"
      }
    },
    {
      "cell_type": "markdown",
      "source": [],
      "metadata": {
        "id": "CKVe19ywV4R4"
      }
    },
    {
      "cell_type": "code",
      "execution_count": 4,
      "metadata": {
        "id": "OY-ACwRvyuPu"
      },
      "outputs": [],
      "source": [
        "import pandas as pd\n",
        "df = pd.read_csv('baseBancoDigital.csv', sep = ';')"
      ]
    },
    {
      "cell_type": "markdown",
      "source": [
        "ele importa o arquivo diretamente do banco de dados pandas e roda o arquivo csv \"baseBancoDigital\" na variável DateFrame. "
      ],
      "metadata": {
        "id": "TYRz5SMvWGB5"
      }
    },
    {
      "cell_type": "markdown",
      "source": [
        "##Responda:\n",
        "###Qual tipo de fonte de dados estamos utilizando neste projeto?"
      ],
      "metadata": {
        "id": "mHtSiLBPE-fK"
      }
    },
    {
      "cell_type": "markdown",
      "source": [
        "Vererifique o tipo abaixo é DataFrame"
      ],
      "metadata": {
        "id": "4t5EU2w9RPIZ"
      }
    },
    {
      "cell_type": "code",
      "source": [
        "print(type(df))"
      ],
      "metadata": {
        "id": "ukx0TJL0y1Cd",
        "colab": {
          "base_uri": "https://localhost:8080/"
        },
        "outputId": "51217f80-5a23-4ef0-86a5-9d8b39b0d430"
      },
      "execution_count": 6,
      "outputs": [
        {
          "output_type": "stream",
          "name": "stdout",
          "text": [
            "<class 'pandas.core.frame.DataFrame'>\n"
          ]
        }
      ]
    },
    {
      "cell_type": "markdown",
      "source": [
        "ele é um tipo csv usando por ;"
      ],
      "metadata": {
        "id": "8Eg7tqU9YL7p"
      }
    },
    {
      "cell_type": "markdown",
      "source": [
        "###Execute o código abaixo:"
      ],
      "metadata": {
        "id": "NttMQow7EdZH"
      }
    },
    {
      "cell_type": "code",
      "source": [
        "df.head()"
      ],
      "metadata": {
        "id": "rGZEQPGWzx2c",
        "colab": {
          "base_uri": "https://localhost:8080/",
          "height": 206
        },
        "outputId": "a160bf4c-eef3-4d61-a751-bae374084173"
      },
      "execution_count": 5,
      "outputs": [
        {
          "output_type": "execute_result",
          "data": {
            "text/plain": [
              "   Id  Score Estado    Genero  Idade  Patrimonio     Saldo  Produtos  \\\n",
              "0   1    619     RS  Feminino     42           2         0         1   \n",
              "1   2    608     SC  Feminino     41           1   8380786         1   \n",
              "2   3    502     RS  Feminino     42           8   1596608         3   \n",
              "3   4    699     RS  Feminino     39           1         0         2   \n",
              "4   5    850     SC  Feminino     43           2  12551082         1   \n",
              "\n",
              "   TemCartCredito  Ativo     Salario  Saiu  \n",
              "0               1      1  10134888.0     1  \n",
              "1               0      1  11254258.0     0  \n",
              "2               1      0  11393157.0     1  \n",
              "3               0      0   9382663.0     0  \n",
              "4               1      1    790841.0     0  "
            ],
            "text/html": [
              "\n",
              "  <div id=\"df-fc150cb7-d841-439e-bc8a-ee0d760c104b\">\n",
              "    <div class=\"colab-df-container\">\n",
              "      <div>\n",
              "<style scoped>\n",
              "    .dataframe tbody tr th:only-of-type {\n",
              "        vertical-align: middle;\n",
              "    }\n",
              "\n",
              "    .dataframe tbody tr th {\n",
              "        vertical-align: top;\n",
              "    }\n",
              "\n",
              "    .dataframe thead th {\n",
              "        text-align: right;\n",
              "    }\n",
              "</style>\n",
              "<table border=\"1\" class=\"dataframe\">\n",
              "  <thead>\n",
              "    <tr style=\"text-align: right;\">\n",
              "      <th></th>\n",
              "      <th>Id</th>\n",
              "      <th>Score</th>\n",
              "      <th>Estado</th>\n",
              "      <th>Genero</th>\n",
              "      <th>Idade</th>\n",
              "      <th>Patrimonio</th>\n",
              "      <th>Saldo</th>\n",
              "      <th>Produtos</th>\n",
              "      <th>TemCartCredito</th>\n",
              "      <th>Ativo</th>\n",
              "      <th>Salario</th>\n",
              "      <th>Saiu</th>\n",
              "    </tr>\n",
              "  </thead>\n",
              "  <tbody>\n",
              "    <tr>\n",
              "      <th>0</th>\n",
              "      <td>1</td>\n",
              "      <td>619</td>\n",
              "      <td>RS</td>\n",
              "      <td>Feminino</td>\n",
              "      <td>42</td>\n",
              "      <td>2</td>\n",
              "      <td>0</td>\n",
              "      <td>1</td>\n",
              "      <td>1</td>\n",
              "      <td>1</td>\n",
              "      <td>10134888.0</td>\n",
              "      <td>1</td>\n",
              "    </tr>\n",
              "    <tr>\n",
              "      <th>1</th>\n",
              "      <td>2</td>\n",
              "      <td>608</td>\n",
              "      <td>SC</td>\n",
              "      <td>Feminino</td>\n",
              "      <td>41</td>\n",
              "      <td>1</td>\n",
              "      <td>8380786</td>\n",
              "      <td>1</td>\n",
              "      <td>0</td>\n",
              "      <td>1</td>\n",
              "      <td>11254258.0</td>\n",
              "      <td>0</td>\n",
              "    </tr>\n",
              "    <tr>\n",
              "      <th>2</th>\n",
              "      <td>3</td>\n",
              "      <td>502</td>\n",
              "      <td>RS</td>\n",
              "      <td>Feminino</td>\n",
              "      <td>42</td>\n",
              "      <td>8</td>\n",
              "      <td>1596608</td>\n",
              "      <td>3</td>\n",
              "      <td>1</td>\n",
              "      <td>0</td>\n",
              "      <td>11393157.0</td>\n",
              "      <td>1</td>\n",
              "    </tr>\n",
              "    <tr>\n",
              "      <th>3</th>\n",
              "      <td>4</td>\n",
              "      <td>699</td>\n",
              "      <td>RS</td>\n",
              "      <td>Feminino</td>\n",
              "      <td>39</td>\n",
              "      <td>1</td>\n",
              "      <td>0</td>\n",
              "      <td>2</td>\n",
              "      <td>0</td>\n",
              "      <td>0</td>\n",
              "      <td>9382663.0</td>\n",
              "      <td>0</td>\n",
              "    </tr>\n",
              "    <tr>\n",
              "      <th>4</th>\n",
              "      <td>5</td>\n",
              "      <td>850</td>\n",
              "      <td>SC</td>\n",
              "      <td>Feminino</td>\n",
              "      <td>43</td>\n",
              "      <td>2</td>\n",
              "      <td>12551082</td>\n",
              "      <td>1</td>\n",
              "      <td>1</td>\n",
              "      <td>1</td>\n",
              "      <td>790841.0</td>\n",
              "      <td>0</td>\n",
              "    </tr>\n",
              "  </tbody>\n",
              "</table>\n",
              "</div>\n",
              "      <button class=\"colab-df-convert\" onclick=\"convertToInteractive('df-fc150cb7-d841-439e-bc8a-ee0d760c104b')\"\n",
              "              title=\"Convert this dataframe to an interactive table.\"\n",
              "              style=\"display:none;\">\n",
              "        \n",
              "  <svg xmlns=\"http://www.w3.org/2000/svg\" height=\"24px\"viewBox=\"0 0 24 24\"\n",
              "       width=\"24px\">\n",
              "    <path d=\"M0 0h24v24H0V0z\" fill=\"none\"/>\n",
              "    <path d=\"M18.56 5.44l.94 2.06.94-2.06 2.06-.94-2.06-.94-.94-2.06-.94 2.06-2.06.94zm-11 1L8.5 8.5l.94-2.06 2.06-.94-2.06-.94L8.5 2.5l-.94 2.06-2.06.94zm10 10l.94 2.06.94-2.06 2.06-.94-2.06-.94-.94-2.06-.94 2.06-2.06.94z\"/><path d=\"M17.41 7.96l-1.37-1.37c-.4-.4-.92-.59-1.43-.59-.52 0-1.04.2-1.43.59L10.3 9.45l-7.72 7.72c-.78.78-.78 2.05 0 2.83L4 21.41c.39.39.9.59 1.41.59.51 0 1.02-.2 1.41-.59l7.78-7.78 2.81-2.81c.8-.78.8-2.07 0-2.86zM5.41 20L4 18.59l7.72-7.72 1.47 1.35L5.41 20z\"/>\n",
              "  </svg>\n",
              "      </button>\n",
              "      \n",
              "  <style>\n",
              "    .colab-df-container {\n",
              "      display:flex;\n",
              "      flex-wrap:wrap;\n",
              "      gap: 12px;\n",
              "    }\n",
              "\n",
              "    .colab-df-convert {\n",
              "      background-color: #E8F0FE;\n",
              "      border: none;\n",
              "      border-radius: 50%;\n",
              "      cursor: pointer;\n",
              "      display: none;\n",
              "      fill: #1967D2;\n",
              "      height: 32px;\n",
              "      padding: 0 0 0 0;\n",
              "      width: 32px;\n",
              "    }\n",
              "\n",
              "    .colab-df-convert:hover {\n",
              "      background-color: #E2EBFA;\n",
              "      box-shadow: 0px 1px 2px rgba(60, 64, 67, 0.3), 0px 1px 3px 1px rgba(60, 64, 67, 0.15);\n",
              "      fill: #174EA6;\n",
              "    }\n",
              "\n",
              "    [theme=dark] .colab-df-convert {\n",
              "      background-color: #3B4455;\n",
              "      fill: #D2E3FC;\n",
              "    }\n",
              "\n",
              "    [theme=dark] .colab-df-convert:hover {\n",
              "      background-color: #434B5C;\n",
              "      box-shadow: 0px 1px 3px 1px rgba(0, 0, 0, 0.15);\n",
              "      filter: drop-shadow(0px 1px 2px rgba(0, 0, 0, 0.3));\n",
              "      fill: #FFFFFF;\n",
              "    }\n",
              "  </style>\n",
              "\n",
              "      <script>\n",
              "        const buttonEl =\n",
              "          document.querySelector('#df-fc150cb7-d841-439e-bc8a-ee0d760c104b button.colab-df-convert');\n",
              "        buttonEl.style.display =\n",
              "          google.colab.kernel.accessAllowed ? 'block' : 'none';\n",
              "\n",
              "        async function convertToInteractive(key) {\n",
              "          const element = document.querySelector('#df-fc150cb7-d841-439e-bc8a-ee0d760c104b');\n",
              "          const dataTable =\n",
              "            await google.colab.kernel.invokeFunction('convertToInteractive',\n",
              "                                                     [key], {});\n",
              "          if (!dataTable) return;\n",
              "\n",
              "          const docLinkHtml = 'Like what you see? Visit the ' +\n",
              "            '<a target=\"_blank\" href=https://colab.research.google.com/notebooks/data_table.ipynb>data table notebook</a>'\n",
              "            + ' to learn more about interactive tables.';\n",
              "          element.innerHTML = '';\n",
              "          dataTable['output_type'] = 'display_data';\n",
              "          await google.colab.output.renderOutput(dataTable, element);\n",
              "          const docLink = document.createElement('div');\n",
              "          docLink.innerHTML = docLinkHtml;\n",
              "          element.appendChild(docLink);\n",
              "        }\n",
              "      </script>\n",
              "    </div>\n",
              "  </div>\n",
              "  "
            ]
          },
          "metadata": {},
          "execution_count": 5
        }
      ]
    },
    {
      "cell_type": "markdown",
      "source": [
        "é gerado por uma planilha do excel \"csv\" "
      ],
      "metadata": {
        "id": "WKCBWulrZjxK"
      }
    },
    {
      "cell_type": "markdown",
      "source": [
        "##Responda:\n",
        "### O que faz o método head()?"
      ],
      "metadata": {
        "id": "nqVqPZKAD0e7"
      }
    },
    {
      "cell_type": "markdown",
      "source": [
        "ele é usado para exibir as primeiras linhas de um conjunto de dados. "
      ],
      "metadata": {
        "id": "5PKGXeI_ba8T"
      }
    },
    {
      "cell_type": "markdown",
      "source": [],
      "metadata": {
        "id": "x5adaOSMbMXZ"
      }
    },
    {
      "cell_type": "markdown",
      "source": [
        "Podemos isolar uma coluna específica do DataFrame, veja:\n",
        "\n"
      ],
      "metadata": {
        "id": "vy0tUwoFU6hZ"
      }
    },
    {
      "cell_type": "code",
      "source": [
        "df['Estado']"
      ],
      "metadata": {
        "id": "i4MMpPZeUonm",
        "colab": {
          "base_uri": "https://localhost:8080/"
        },
        "outputId": "e66dc7d3-8da0-4fe4-9887-05467d753cbe"
      },
      "execution_count": null,
      "outputs": [
        {
          "output_type": "execute_result",
          "data": {
            "text/plain": [
              "0      RS\n",
              "1      SC\n",
              "2      RS\n",
              "3      RS\n",
              "4      SC\n",
              "       ..\n",
              "994    SC\n",
              "995    SC\n",
              "996    SC\n",
              "997    SC\n",
              "998    PR\n",
              "Name: Estado, Length: 999, dtype: object"
            ]
          },
          "metadata": {},
          "execution_count": 88
        }
      ]
    },
    {
      "cell_type": "markdown",
      "source": [
        "O método describe() exibe as variáveis estatísticas da coluna selecionada no DataFrame.\n",
        "\n"
      ],
      "metadata": {
        "id": "rHQKz-8mSSnu"
      }
    },
    {
      "cell_type": "code",
      "source": [
        "df['Estado'].describe()"
      ],
      "metadata": {
        "id": "fXrUwU2BBy0k",
        "colab": {
          "base_uri": "https://localhost:8080/"
        },
        "outputId": "0ada76e7-ddc3-4661-c821-7cac4e54def8"
      },
      "execution_count": null,
      "outputs": [
        {
          "output_type": "execute_result",
          "data": {
            "text/plain": [
              "count     999\n",
              "unique      6\n",
              "top        RS\n",
              "freq      478\n",
              "Name: Estado, dtype: object"
            ]
          },
          "metadata": {},
          "execution_count": 89
        }
      ]
    },
    {
      "cell_type": "markdown",
      "source": [
        "###Interpretando os dados acima:\n",
        "\n",
        "count: número de linhas do dataframe\n",
        "\n",
        "unique: quantidade de valores distintos da coluna Estado\n",
        "\n",
        "top: valor com maior recorrência na coluna Estado\n",
        "\n",
        "freq: quantidade de vezes que o top se repete\n",
        "\n",
        "Name: nome da coluna\n",
        "\n",
        "dtype: tipo de dado que a coluna recebe"
      ],
      "metadata": {
        "id": "wE6vcj5sFjcf"
      }
    },
    {
      "cell_type": "markdown",
      "source": [
        "##Execute o método abaixo: \n",
        "O método info() exibe o nome das colunas do dataframe."
      ],
      "metadata": {
        "id": "MgJQEznKT_DX"
      }
    },
    {
      "cell_type": "code",
      "source": [
        "df.info()"
      ],
      "metadata": {
        "id": "TBhQeRANS2e9",
        "colab": {
          "base_uri": "https://localhost:8080/"
        },
        "outputId": "b819e873-b2dd-4697-da9c-4f65e96dd086"
      },
      "execution_count": 7,
      "outputs": [
        {
          "output_type": "stream",
          "name": "stdout",
          "text": [
            "<class 'pandas.core.frame.DataFrame'>\n",
            "RangeIndex: 999 entries, 0 to 998\n",
            "Data columns (total 12 columns):\n",
            " #   Column          Non-Null Count  Dtype  \n",
            "---  ------          --------------  -----  \n",
            " 0   Id              999 non-null    int64  \n",
            " 1   Score           999 non-null    int64  \n",
            " 2   Estado          999 non-null    object \n",
            " 3   Genero          991 non-null    object \n",
            " 4   Idade           999 non-null    int64  \n",
            " 5   Patrimonio      999 non-null    int64  \n",
            " 6   Saldo           999 non-null    int64  \n",
            " 7   Produtos        999 non-null    int64  \n",
            " 8   TemCartCredito  999 non-null    int64  \n",
            " 9   Ativo           999 non-null    int64  \n",
            " 10  Salario         992 non-null    float64\n",
            " 11  Saiu            999 non-null    int64  \n",
            "dtypes: float64(1), int64(9), object(2)\n",
            "memory usage: 93.8+ KB\n"
          ]
        }
      ]
    },
    {
      "cell_type": "markdown",
      "source": [
        "ele resumo as informações de colunas e identidades"
      ],
      "metadata": {
        "id": "NG1fuadFdJhx"
      }
    },
    {
      "cell_type": "markdown",
      "source": [
        "##Execute o código abaixo:\n",
        "O método hist() exibe um histograma dos dados numéricos do dataframe."
      ],
      "metadata": {
        "id": "ArEj1Le3UHxg"
      }
    },
    {
      "cell_type": "code",
      "source": [
        "df.hist()"
      ],
      "metadata": {
        "id": "7khNXaJaTSrD"
      },
      "execution_count": null,
      "outputs": []
    },
    {
      "cell_type": "markdown",
      "source": [
        "transforma as informações pra arquivo de gráfico"
      ],
      "metadata": {
        "id": "75UwOa5seoeS"
      }
    },
    {
      "cell_type": "markdown",
      "source": [
        "O método isnull() retorna um booleano indicando se o dado é nulo ou não, utilizamos o método sum() para somar os valores true."
      ],
      "metadata": {
        "id": "Wr2csIn3URYT"
      }
    },
    {
      "cell_type": "code",
      "source": [
        "df.isnull().sum()"
      ],
      "metadata": {
        "id": "bozWhnYkTfY1",
        "colab": {
          "base_uri": "https://localhost:8080/"
        },
        "outputId": "a12edbb7-4ff8-445d-c787-814259ba4963"
      },
      "execution_count": null,
      "outputs": [
        {
          "output_type": "execute_result",
          "data": {
            "text/plain": [
              "Id                0\n",
              "Score             0\n",
              "Estado            0\n",
              "Genero            8\n",
              "Idade             0\n",
              "Patrimonio        0\n",
              "Saldo             0\n",
              "Produtos          0\n",
              "TemCartCredito    0\n",
              "Ativo             0\n",
              "Salario           7\n",
              "Saiu              0\n",
              "dtype: int64"
            ]
          },
          "metadata": {},
          "execution_count": 92
        }
      ]
    },
    {
      "cell_type": "markdown",
      "source": [
        "##Faça uma análise\n",
        "Analise os dados da tabela acima, citando quais colunas do dataframe possuem valores nulos e o que isso poderia representar como resultado."
      ],
      "metadata": {
        "id": "Slitq1IFGqdR"
      }
    },
    {
      "cell_type": "markdown",
      "source": [
        "O método groupby() permite realizar agrupamentos, mas atenção, sempre que utilizar um agrupamento deve ser utilizada uma função de grupo como soma, média, mediana, contagem."
      ],
      "metadata": {
        "id": "oilJEwyeS7ae"
      }
    },
    {
      "cell_type": "code",
      "source": [
        "df.groupby('Estado').size()"
      ],
      "metadata": {
        "id": "G8LowswvA9aP"
      },
      "execution_count": null,
      "outputs": []
    },
    {
      "cell_type": "markdown",
      "source": [
        "##Execute o código abaixo e responda:\n",
        "###Pela sua percepção, o que faz o método corr()? "
      ],
      "metadata": {
        "id": "4FTPcEeanYh0"
      }
    },
    {
      "cell_type": "code",
      "source": [
        "df.corr()"
      ],
      "metadata": {
        "id": "_SvUEJxnmdFE"
      },
      "execution_count": null,
      "outputs": []
    },
    {
      "cell_type": "markdown",
      "source": [
        "A propriedade plot, permite exibir gráficos."
      ],
      "metadata": {
        "id": "yj59RVKhVGI8"
      }
    },
    {
      "cell_type": "code",
      "source": [
        "df['Estado'].value_counts().plot.bar()"
      ],
      "metadata": {
        "id": "ZUi0EVx5FpO0",
        "colab": {
          "base_uri": "https://localhost:8080/",
          "height": 456
        },
        "outputId": "1333245b-f88c-4f93-d027-698fec19b099"
      },
      "execution_count": null,
      "outputs": [
        {
          "output_type": "execute_result",
          "data": {
            "text/plain": [
              "<Axes: >"
            ]
          },
          "metadata": {},
          "execution_count": 72
        },
        {
          "output_type": "display_data",
          "data": {
            "text/plain": [
              "<Figure size 640x480 with 1 Axes>"
            ],
            "image/png": "[encoded data removed]"
          },
          "metadata": {}
        }
      ]
    },
    {
      "cell_type": "markdown",
      "source": [
        "Agora considere o seguinte: Na regra de negócio do banco digital, são aceitos apenas clientes da região sul. Verifique que o DataFrame tem estados inválidos como \"TD\" e \"SP\". Então precisaremos realizar uma limpeza desses dados.\n",
        "Abaixo listamos os dados estatísticos para buscar pelo estado que mais se repete (Moda). A moda pode ser identificada como \"top\".\n",
        " "
      ],
      "metadata": {
        "id": "cmUvc_VRVVuB"
      }
    },
    {
      "cell_type": "code",
      "source": [
        "df['Estado'].describe()"
      ],
      "metadata": {
        "id": "p2XsUFvhMbCg",
        "colab": {
          "base_uri": "https://localhost:8080/"
        },
        "outputId": "17faf604-b76b-417a-ecc6-476ed41e485f"
      },
      "execution_count": null,
      "outputs": [
        {
          "output_type": "execute_result",
          "data": {
            "text/plain": [
              "count     999\n",
              "unique      6\n",
              "top        RS\n",
              "freq      478\n",
              "Name: Estado, dtype: object"
            ]
          },
          "metadata": {},
          "execution_count": 73
        }
      ]
    },
    {
      "cell_type": "markdown",
      "source": [
        "Então realizamos a substituição de qualquer estado que estiver fora do domínio (Região Sul) para ser substituído pela moda \"RS\"."
      ],
      "metadata": {
        "id": "ElhfNJf1WbOr"
      }
    },
    {
      "cell_type": "code",
      "source": [
        "estadosDoSul = ['RS','SC','PR']\n",
        "estadosValidos = df['Estado'].isin(estadosDoSul) #Retorna um DataFrame de Booleanos caso o estado combine com o array estadosDoSul\n",
        "df.loc[~estadosValidos,'Estado'] = 'RS' # O ~ indica negação, ou seja o método ira localizar os estados que não sejam válidos."
      ],
      "metadata": {
        "id": "xuLqHnE1NGBi"
      },
      "execution_count": null,
      "outputs": []
    },
    {
      "cell_type": "code",
      "source": [
        "df['Estado'].value_counts().plot.bar()"
      ],
      "metadata": {
        "colab": {
          "base_uri": "https://localhost:8080/",
          "height": 451
        },
        "id": "d3-_DhwoBg--",
        "outputId": "9d5aeb34-3ba7-4ee1-d5fa-2cda56225aa5"
      },
      "execution_count": null,
      "outputs": [
        {
          "output_type": "execute_result",
          "data": {
            "text/plain": [
              "<Axes: >"
            ]
          },
          "metadata": {},
          "execution_count": 75
        },
        {
          "output_type": "display_data",
          "data": {
            "text/plain": [
              "<Figure size 640x480 with 1 Axes>"
            ],
            "image/png": "[encoded data removed]"
          },
          "metadata": {}
        }
      ]
    },
    {
      "cell_type": "markdown",
      "source": [
        "Observe que temos 7 salários sem valor, iremos preenche-los com a média salarial."
      ],
      "metadata": {
        "id": "ePMzbkeSWiRN"
      }
    },
    {
      "cell_type": "code",
      "source": [
        "df['Salario'].isnull().sum()"
      ],
      "metadata": {
        "id": "dWkSa8g5XDpk",
        "colab": {
          "base_uri": "https://localhost:8080/"
        },
        "outputId": "c06d8ec9-d4eb-479b-96d1-909fbaf16fce"
      },
      "execution_count": null,
      "outputs": [
        {
          "output_type": "execute_result",
          "data": {
            "text/plain": [
              "7"
            ]
          },
          "metadata": {},
          "execution_count": 64
        }
      ]
    },
    {
      "cell_type": "markdown",
      "source": [
        "O método mean() exibe a média."
      ],
      "metadata": {
        "id": "vmHlVSV0Y-rm"
      }
    },
    {
      "cell_type": "code",
      "source": [
        "mediaSalarial = df['Salario'].mean()\n",
        "mediaSalarial\n"
      ],
      "metadata": {
        "id": "BF2Rj5TwXZw5",
        "colab": {
          "base_uri": "https://localhost:8080/"
        },
        "outputId": "cead0475-54e9-4995-ed67-649e2b4a2a1f"
      },
      "execution_count": null,
      "outputs": [
        {
          "output_type": "execute_result",
          "data": {
            "text/plain": [
              "35287620.25100806"
            ]
          },
          "metadata": {},
          "execution_count": 65
        }
      ]
    },
    {
      "cell_type": "markdown",
      "source": [
        "Utilizamos a propriedade loc para buscar pelos valores de salário nulos. Em seguida atribuimos a média salarial a eles."
      ],
      "metadata": {
        "id": "_GG-h-IxZAhO"
      }
    },
    {
      "cell_type": "code",
      "source": [
        "df.loc[df['Salario'].isnull(), 'Salario'] = mediaSalarial;"
      ],
      "metadata": {
        "id": "_JeDQ1FHXHEo"
      },
      "execution_count": null,
      "outputs": []
    },
    {
      "cell_type": "markdown",
      "source": [
        "###Faça uma análise descritiva da coluna Gênero, encontre os problemas e realize a higienização dos dados."
      ],
      "metadata": {
        "id": "jzf68BgNZdyv"
      }
    },
    {
      "cell_type": "code",
      "source": [
        "df['Genero'].value_counts().plot.bar()"
      ],
      "metadata": {
        "colab": {
          "base_uri": "https://localhost:8080/",
          "height": 502
        },
        "id": "qHjNUlni5g87",
        "outputId": "55265f95-2266-4616-844a-308e5cfe88b8"
      },
      "execution_count": null,
      "outputs": [
        {
          "output_type": "execute_result",
          "data": {
            "text/plain": [
              "<Axes: >"
            ]
          },
          "metadata": {},
          "execution_count": 23
        },
        {
          "output_type": "display_data",
          "data": {
            "text/plain": [
              "<Figure size 640x480 with 1 Axes>"
            ],
            "image/png": "[encoded data removed]"
          },
          "metadata": {}
        }
      ]
    },
    {
      "cell_type": "markdown",
      "source": [
        "##Faça uma análise descritiva da coluna Idade, encontre os problemas e faça a higienização dos dados."
      ],
      "metadata": {
        "id": "AgaGQ9zCI4Z2"
      }
    },
    {
      "cell_type": "code",
      "source": [
        "df['Idade'].describe()"
      ],
      "metadata": {
        "colab": {
          "base_uri": "https://localhost:8080/"
        },
        "id": "kmM97Hiw7Oxu",
        "outputId": "a1c92d74-f876-4775-9b3b-559c35b19dbe"
      },
      "execution_count": null,
      "outputs": [
        {
          "output_type": "execute_result",
          "data": {
            "text/plain": [
              "count    999.000000\n",
              "mean      38.902903\n",
              "std       11.401912\n",
              "min      -20.000000\n",
              "25%       32.000000\n",
              "50%       37.000000\n",
              "75%       44.000000\n",
              "max      140.000000\n",
              "Name: Idade, dtype: float64"
            ]
          },
          "metadata": {},
          "execution_count": 25
        }
      ]
    }
  ]
}